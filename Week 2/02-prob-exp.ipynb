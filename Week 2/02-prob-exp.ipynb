{
 "cells": [
  {
   "cell_type": "code",
   "execution_count": 3,
   "id": "b7f57afe",
   "metadata": {},
   "outputs": [
    {
     "data": {
      "text/plain": [
       "np.float64(81.88888888888889)"
      ]
     },
     "execution_count": 3,
     "metadata": {},
     "output_type": "execute_result"
    }
   ],
   "source": [
    "import numpy as np\n",
    "data = [60, 72, 75, 80, 82, 85, 90, 93, 100]\n",
    "np.mean(data)"
   ]
  },
  {
   "cell_type": "code",
   "execution_count": null,
   "id": "33d8aa6f",
   "metadata": {},
   "outputs": [
    {
     "name": "stdout",
     "output_type": "stream",
     "text": [
      "Sum: 737\n",
      "Mean: 81.88888888888889\n"
     ]
    }
   ],
   "source": [
    "data = [60, 72, 75, 80, 82, 85, 90, 93, 100]\n",
    "N = len(data)  # Total number of data points\n",
    "\n",
    "sum_of_values = 0\n",
    "for value in data:\n",
    "    sum_of_values += value\n",
    "\n",
    "print(\"Sum:\", sum_of_values)\n",
    "print(\"Mean:\", sum_of_values / N)"
   ]
  },
  {
   "cell_type": "code",
   "execution_count": 1,
   "id": "94cb1d81",
   "metadata": {},
   "outputs": [
    {
     "name": "stdout",
     "output_type": "stream",
     "text": [
      "Hello World\n"
     ]
    }
   ],
   "source": [
    "print(\"Hello World\")"
   ]
  }
 ],
 "metadata": {
  "kernelspec": {
   "display_name": "Python (horizons25)",
   "language": "python",
   "name": "horizons25"
  },
  "language_info": {
   "codemirror_mode": {
    "name": "ipython",
    "version": 3
   },
   "file_extension": ".py",
   "mimetype": "text/x-python",
   "name": "python",
   "nbconvert_exporter": "python",
   "pygments_lexer": "ipython3",
   "version": "3.12.9"
  }
 },
 "nbformat": 4,
 "nbformat_minor": 5
}
