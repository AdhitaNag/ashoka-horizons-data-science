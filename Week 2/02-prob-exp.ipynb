{
 "cells": [
  {
   "cell_type": "code",
   "execution_count": 20,
   "id": "b7f57afe",
   "metadata": {},
   "outputs": [
    {
     "name": "stdout",
     "output_type": "stream",
     "text": [
      "Median:\n",
      "Standard Deviation:\n",
      "Variance:\n",
      "Var: 104.99173553719011\n",
      "Range:\n"
     ]
    },
    {
     "data": {
      "text/plain": [
       "np.int64(40)"
      ]
     },
     "execution_count": 20,
     "metadata": {},
     "output_type": "execute_result"
    }
   ],
   "source": [
    "import numpy as np\n",
    "data = [60, 72, 75, 80, 82, 82, 82, 85, 90, 93, 100]\n",
    "np.mean(data)\n",
    "# Median\n",
    "print(\"Median:\")\n",
    "np.median(data)\n",
    "# Standard Deviation\n",
    "print(\"Standard Deviation:\")\n",
    "np.std(data)\n",
    "# Variance is the square of the standard deviation.\n",
    "print(\"Variance:\")\n",
    "std = np.std(data)\n",
    "print(f\"Var: {std**2}\")\n",
    "# RANGE is the difference between the maximum and minimum values.\n",
    "print(\"Range:\")\n",
    "np.max(data) - np.min(data)"
   ]
  },
  {
   "cell_type": "code",
   "execution_count": 14,
   "id": "33d8aa6f",
   "metadata": {},
   "outputs": [
    {
     "name": "stdout",
     "output_type": "stream",
     "text": [
      "Sum: 737\n",
      "Mean: 81.88888888888889\n"
     ]
    }
   ],
   "source": [
    "data = [60, 72, 75, 80, 82, 85, 90, 93, 100]\n",
    "N = len(data)  # Total number of data points\n",
    "\n",
    "sum_of_values = 0\n",
    "for value in data:\n",
    "    sum_of_values += value\n",
    "\n",
    "print(\"Sum:\", sum_of_values)\n",
    "print(\"Mean:\", sum_of_values / N)"
   ]
  },
  {
   "cell_type": "code",
   "execution_count": 16,
   "id": "f6a444c3",
   "metadata": {},
   "outputs": [
    {
     "name": "stdout",
     "output_type": "stream",
     "text": [
      "Median: 82\n"
     ]
    }
   ],
   "source": [
    "# Median\n",
    "# To find the median, we need to sort the data first.\n",
    "sorted_data = sorted(data)\n",
    "# Now we can find the median.\n",
    "N = len(sorted_data)\n",
    "\n",
    "# Now we calculate the middle index.\n",
    "middle = N // 2\n",
    "# If N is odd, the median is the middle value.\n",
    "# If N is even, the median is the average of the two middle values.\n",
    "if N % 2 == 1: # Check if N is odd\n",
    "    median_value = sorted_data[middle]\n",
    "else: # N is even\n",
    "    median_value = (sorted_data[middle - 1] + sorted_data[middle]) / 2\n",
    "print(f\"Median: {median_value}\")"
   ]
  },
  {
   "cell_type": "code",
   "execution_count": 18,
   "id": "6fc8309e",
   "metadata": {},
   "outputs": [
    {
     "name": "stdout",
     "output_type": "stream",
     "text": [
      "{60: 1, 72: 1, 75: 1, 80: 1, 82: 3, 85: 1, 90: 1, 93: 1, 100: 1}\n",
      "3 82\n"
     ]
    }
   ],
   "source": [
    "# Mode\n",
    "# Highest frequency\n",
    "# First, we need to count the frequency of each value in the data set.\n",
    "data = [60, 72, 75, 80, 82, 82, 82, 85, 90, 93, 100]\n",
    "count_dict = {}\n",
    "for x in data:\n",
    "    if x in count_dict:\n",
    "        count_dict[x] += 1\n",
    "    else:\n",
    "        count_dict[x] = 1\n",
    "# This will give us a dictionary with values as keys and their frequencies as values.\n",
    "print(count_dict)\n",
    "# Now we can find the mode, which is the value with the highest frequency.\n",
    "max_count = 0\n",
    "mode_value = 0\n",
    "for x in count_dict:\n",
    "    if count_dict[x] > max_count:\n",
    "        max_count = count_dict[x]\n",
    "        mode_value = x\n",
    "print(max_count, mode_value)"
   ]
  },
  {
   "cell_type": "code",
   "execution_count": 19,
   "id": "0e0ae87a",
   "metadata": {},
   "outputs": [
    {
     "name": "stdout",
     "output_type": "stream",
     "text": [
      "Max Value:\n"
     ]
    },
    {
     "data": {
      "text/plain": [
       "np.int64(100)"
      ]
     },
     "execution_count": 19,
     "metadata": {},
     "output_type": "execute_result"
    }
   ],
   "source": [
    "# Maximum value\n",
    "print(\"Max Value:\")\n",
    "np.max(data)"
   ]
  },
  {
   "cell_type": "code",
   "execution_count": 1,
   "id": "94cb1d81",
   "metadata": {},
   "outputs": [
    {
     "name": "stdout",
     "output_type": "stream",
     "text": [
      "Hello World\n"
     ]
    }
   ],
   "source": [
    "print(\"Hello World\")"
   ]
  }
 ],
 "metadata": {
  "kernelspec": {
   "display_name": "Python (horizons25)",
   "language": "python",
   "name": "horizons25"
  },
  "language_info": {
   "codemirror_mode": {
    "name": "ipython",
    "version": 3
   },
   "file_extension": ".py",
   "mimetype": "text/x-python",
   "name": "python",
   "nbconvert_exporter": "python",
   "pygments_lexer": "ipython3",
   "version": "3.12.9"
  }
 },
 "nbformat": 4,
 "nbformat_minor": 5
}
