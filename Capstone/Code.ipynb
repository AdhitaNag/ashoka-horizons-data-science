{
 "cells": [
  {
   "cell_type": "code",
   "execution_count": 9,
   "id": "f2f4eab8",
   "metadata": {},
   "outputs": [],
   "source": [
    "import pandas as pd\n",
    "import numpy as np\n",
    "import matplotlib.pyplot as plt\n",
    "import seaborn as sns\n",
    "\n",
    "from sklearn.model_selection import train_test_split\n",
    "from sklearn.linear_model import LinearRegression\n",
    "from sklearn.ensemble import RandomForestRegressor\n",
    "from sklearn.metrics import mean_squared_error, r2_score\n"
   ]
  },
  {
   "cell_type": "code",
   "execution_count": 10,
   "id": "b4d7051f",
   "metadata": {},
   "outputs": [
    {
     "name": "stdout",
     "output_type": "stream",
     "text": [
      "<class 'pandas.core.frame.DataFrame'>\n",
      "RangeIndex: 71938 entries, 0 to 71937\n",
      "Data columns (total 15 columns):\n",
      " #   Column          Non-Null Count  Dtype  \n",
      "---  ------          --------------  -----  \n",
      " 0   title           71938 non-null  object \n",
      " 1   price           71938 non-null  int64  \n",
      " 2   area            71938 non-null  int64  \n",
      " 3   price_per_sqft  71938 non-null  float64\n",
      " 4   locality        71938 non-null  object \n",
      " 5   city            71938 non-null  object \n",
      " 6   property_type   71938 non-null  object \n",
      " 7   bedroom_num     71938 non-null  int64  \n",
      " 8   bathroom_num    71938 non-null  int64  \n",
      " 9   balcony_num     71938 non-null  int64  \n",
      " 10  furnished       71938 non-null  object \n",
      " 11  age             71938 non-null  int64  \n",
      " 12  total_floors    71938 non-null  int64  \n",
      " 13  latitude        71938 non-null  float64\n",
      " 14  longitude       71938 non-null  float64\n",
      "dtypes: float64(3), int64(7), object(5)\n",
      "memory usage: 8.2+ MB\n"
     ]
    },
    {
     "data": {
      "text/html": [
       "<div>\n",
       "<style scoped>\n",
       "    .dataframe tbody tr th:only-of-type {\n",
       "        vertical-align: middle;\n",
       "    }\n",
       "\n",
       "    .dataframe tbody tr th {\n",
       "        vertical-align: top;\n",
       "    }\n",
       "\n",
       "    .dataframe thead th {\n",
       "        text-align: right;\n",
       "    }\n",
       "</style>\n",
       "<table border=\"1\" class=\"dataframe\">\n",
       "  <thead>\n",
       "    <tr style=\"text-align: right;\">\n",
       "      <th></th>\n",
       "      <th>price</th>\n",
       "      <th>area</th>\n",
       "      <th>price_per_sqft</th>\n",
       "      <th>bedroom_num</th>\n",
       "      <th>bathroom_num</th>\n",
       "      <th>balcony_num</th>\n",
       "      <th>age</th>\n",
       "      <th>total_floors</th>\n",
       "      <th>latitude</th>\n",
       "      <th>longitude</th>\n",
       "    </tr>\n",
       "  </thead>\n",
       "  <tbody>\n",
       "    <tr>\n",
       "      <th>count</th>\n",
       "      <td>7.193800e+04</td>\n",
       "      <td>71938.000000</td>\n",
       "      <td>71938.000000</td>\n",
       "      <td>71938.000000</td>\n",
       "      <td>71938.000000</td>\n",
       "      <td>71938.000000</td>\n",
       "      <td>71938.000000</td>\n",
       "      <td>71938.000000</td>\n",
       "      <td>71938.000000</td>\n",
       "      <td>71938.000000</td>\n",
       "    </tr>\n",
       "    <tr>\n",
       "      <th>mean</th>\n",
       "      <td>1.951272e+07</td>\n",
       "      <td>943.251369</td>\n",
       "      <td>18489.401813</td>\n",
       "      <td>1.993884</td>\n",
       "      <td>2.082432</td>\n",
       "      <td>0.164336</td>\n",
       "      <td>2.247852</td>\n",
       "      <td>1.004740</td>\n",
       "      <td>19.171970</td>\n",
       "      <td>72.964390</td>\n",
       "    </tr>\n",
       "    <tr>\n",
       "      <th>std</th>\n",
       "      <td>3.320767e+07</td>\n",
       "      <td>645.881922</td>\n",
       "      <td>12691.857370</td>\n",
       "      <td>0.914573</td>\n",
       "      <td>0.854540</td>\n",
       "      <td>0.593804</td>\n",
       "      <td>4.230751</td>\n",
       "      <td>0.381272</td>\n",
       "      <td>0.465753</td>\n",
       "      <td>0.406728</td>\n",
       "    </tr>\n",
       "    <tr>\n",
       "      <th>min</th>\n",
       "      <td>3.200000e+04</td>\n",
       "      <td>123.000000</td>\n",
       "      <td>25.376685</td>\n",
       "      <td>0.000000</td>\n",
       "      <td>1.000000</td>\n",
       "      <td>0.000000</td>\n",
       "      <td>0.000000</td>\n",
       "      <td>1.000000</td>\n",
       "      <td>12.889899</td>\n",
       "      <td>72.435379</td>\n",
       "    </tr>\n",
       "    <tr>\n",
       "      <th>25%</th>\n",
       "      <td>6.524250e+06</td>\n",
       "      <td>595.000000</td>\n",
       "      <td>9230.769231</td>\n",
       "      <td>1.000000</td>\n",
       "      <td>2.000000</td>\n",
       "      <td>0.000000</td>\n",
       "      <td>0.000000</td>\n",
       "      <td>1.000000</td>\n",
       "      <td>19.071314</td>\n",
       "      <td>72.858833</td>\n",
       "    </tr>\n",
       "    <tr>\n",
       "      <th>50%</th>\n",
       "      <td>1.200000e+07</td>\n",
       "      <td>775.000000</td>\n",
       "      <td>16080.402010</td>\n",
       "      <td>2.000000</td>\n",
       "      <td>2.000000</td>\n",
       "      <td>0.000000</td>\n",
       "      <td>0.000000</td>\n",
       "      <td>1.000000</td>\n",
       "      <td>19.164281</td>\n",
       "      <td>72.916528</td>\n",
       "    </tr>\n",
       "    <tr>\n",
       "      <th>75%</th>\n",
       "      <td>2.150000e+07</td>\n",
       "      <td>1100.000000</td>\n",
       "      <td>23913.043478</td>\n",
       "      <td>3.000000</td>\n",
       "      <td>2.000000</td>\n",
       "      <td>0.000000</td>\n",
       "      <td>3.000000</td>\n",
       "      <td>1.000000</td>\n",
       "      <td>19.229946</td>\n",
       "      <td>73.021536</td>\n",
       "    </tr>\n",
       "    <tr>\n",
       "      <th>max</th>\n",
       "      <td>2.147484e+09</td>\n",
       "      <td>24109.000000</td>\n",
       "      <td>290000.000000</td>\n",
       "      <td>15.000000</td>\n",
       "      <td>15.000000</td>\n",
       "      <td>15.000000</td>\n",
       "      <td>57.000000</td>\n",
       "      <td>70.000000</td>\n",
       "      <td>72.868339</td>\n",
       "      <td>91.804413</td>\n",
       "    </tr>\n",
       "  </tbody>\n",
       "</table>\n",
       "</div>"
      ],
      "text/plain": [
       "              price          area  price_per_sqft   bedroom_num  bathroom_num  \\\n",
       "count  7.193800e+04  71938.000000    71938.000000  71938.000000  71938.000000   \n",
       "mean   1.951272e+07    943.251369    18489.401813      1.993884      2.082432   \n",
       "std    3.320767e+07    645.881922    12691.857370      0.914573      0.854540   \n",
       "min    3.200000e+04    123.000000       25.376685      0.000000      1.000000   \n",
       "25%    6.524250e+06    595.000000     9230.769231      1.000000      2.000000   \n",
       "50%    1.200000e+07    775.000000    16080.402010      2.000000      2.000000   \n",
       "75%    2.150000e+07   1100.000000    23913.043478      3.000000      2.000000   \n",
       "max    2.147484e+09  24109.000000   290000.000000     15.000000     15.000000   \n",
       "\n",
       "        balcony_num           age  total_floors      latitude     longitude  \n",
       "count  71938.000000  71938.000000  71938.000000  71938.000000  71938.000000  \n",
       "mean       0.164336      2.247852      1.004740     19.171970     72.964390  \n",
       "std        0.593804      4.230751      0.381272      0.465753      0.406728  \n",
       "min        0.000000      0.000000      1.000000     12.889899     72.435379  \n",
       "25%        0.000000      0.000000      1.000000     19.071314     72.858833  \n",
       "50%        0.000000      0.000000      1.000000     19.164281     72.916528  \n",
       "75%        0.000000      3.000000      1.000000     19.229946     73.021536  \n",
       "max       15.000000     57.000000     70.000000     72.868339     91.804413  "
      ]
     },
     "execution_count": 10,
     "metadata": {},
     "output_type": "execute_result"
    }
   ],
   "source": [
    "df = pd.read_csv('mumbai-house-price-data-cleaned.csv')\n",
    "df.head()\n",
    "df.info()\n",
    "df.describe()\n"
   ]
  },
  {
   "cell_type": "code",
   "execution_count": 11,
   "id": "129e3dd8",
   "metadata": {},
   "outputs": [],
   "source": [
    "# Drop unnecessary/redundant columns\n",
    "df = df.drop(['title', 'price_per_sqft', 'city'], axis=1)\n"
   ]
  },
  {
   "cell_type": "code",
   "execution_count": 12,
   "id": "42cab6f9",
   "metadata": {},
   "outputs": [],
   "source": [
    "# One-hot encode categorical features\n",
    "df = pd.get_dummies(df, columns=['locality', 'property_type', 'furnished'], drop_first=True)\n"
   ]
  },
  {
   "cell_type": "code",
   "execution_count": 13,
   "id": "b6140039",
   "metadata": {},
   "outputs": [],
   "source": [
    "# Define Features (X) and Target (y)\n",
    "y = df['price']\n",
    "X = df.drop('price', axis=1)"
   ]
  },
  {
   "cell_type": "code",
   "execution_count": 14,
   "id": "b65a363d",
   "metadata": {},
   "outputs": [],
   "source": [
    "# Train-Test Split\n",
    "X_train, X_test, y_train, y_test = train_test_split(\n",
    "    X, y, test_size=0.2, random_state=42\n",
    ")"
   ]
  },
  {
   "cell_type": "code",
   "execution_count": 15,
   "id": "9bdc5ecb",
   "metadata": {},
   "outputs": [
    {
     "name": "stdout",
     "output_type": "stream",
     "text": [
      "Linear Regression R²: 0.6775662053896332\n",
      "Linear Regression RMSE: 17783761.507916767\n"
     ]
    }
   ],
   "source": [
    "# Linear Regression Model\n",
    "lr_model = LinearRegression()\n",
    "lr_model.fit(X_train, y_train)\n",
    "\n",
    "y_pred_lr = lr_model.predict(X_test)\n",
    "\n",
    "print(\"Linear Regression R²:\", r2_score(y_test, y_pred_lr))\n",
    "print(\"Linear Regression RMSE:\", np.sqrt(mean_squared_error(y_test, y_pred_lr)))"
   ]
  },
  {
   "cell_type": "code",
   "execution_count": 16,
   "id": "c203e1dc",
   "metadata": {},
   "outputs": [
    {
     "name": "stdout",
     "output_type": "stream",
     "text": [
      "Random Forest R²: 0.8819715880752493\n",
      "Random Forest RMSE: 10759612.486006018\n"
     ]
    }
   ],
   "source": [
    "# Random Forest Regressor\n",
    "rf_model = RandomForestRegressor(n_estimators=100, random_state=42)\n",
    "rf_model.fit(X_train, y_train)\n",
    "\n",
    "y_pred_rf = rf_model.predict(X_test)\n",
    "\n",
    "print(\"Random Forest R²:\", r2_score(y_test, y_pred_rf))\n",
    "print(\"Random Forest RMSE:\", np.sqrt(mean_squared_error(y_test, y_pred_rf)))"
   ]
  },
  {
   "cell_type": "code",
   "execution_count": 17,
   "id": "2391fc4c",
   "metadata": {},
   "outputs": [
    {
     "name": "stdout",
     "output_type": "stream",
     "text": [
      "                   Feature  Importance\n",
      "0                     area    0.516082\n",
      "7                longitude    0.191737\n",
      "1              bedroom_num    0.100430\n",
      "6                 latitude    0.100043\n",
      "199  locality_Malabar Hill    0.020991\n",
      "4                      age    0.016036\n",
      "2             bathroom_num    0.008654\n",
      "3              balcony_num    0.007983\n",
      "420  furnished_Unfurnished    0.003714\n",
      "418    property_type_Villa    0.003035\n"
     ]
    }
   ],
   "source": [
    "# Feature Importance from Random Forest\n",
    "importances = rf_model.feature_importances_\n",
    "feature_names = X.columns\n",
    "\n",
    "importance_df = pd.DataFrame({\n",
    "    'Feature': feature_names,\n",
    "    'Importance': importances\n",
    "}).sort_values(by='Importance', ascending=False)\n",
    "\n",
    "print(importance_df.head(10))"
   ]
  },
  {
   "cell_type": "code",
   "execution_count": 22,
   "id": "8acfcf5b",
   "metadata": {},
   "outputs": [
    {
     "ename": "ModuleNotFoundError",
     "evalue": "No module named 'tensorflow'",
     "output_type": "error",
     "traceback": [
      "\u001b[31m---------------------------------------------------------------------------\u001b[39m",
      "\u001b[31mModuleNotFoundError\u001b[39m                       Traceback (most recent call last)",
      "\u001b[36mCell\u001b[39m\u001b[36m \u001b[39m\u001b[32mIn[22]\u001b[39m\u001b[32m, line 6\u001b[39m\n\u001b[32m      4\u001b[39m \u001b[38;5;28;01mfrom\u001b[39;00m\u001b[38;5;250m \u001b[39m\u001b[34;01msklearn\u001b[39;00m\u001b[34;01m.\u001b[39;00m\u001b[34;01mmodel_selection\u001b[39;00m\u001b[38;5;250m \u001b[39m\u001b[38;5;28;01mimport\u001b[39;00m train_test_split\n\u001b[32m      5\u001b[39m \u001b[38;5;28;01mfrom\u001b[39;00m\u001b[38;5;250m \u001b[39m\u001b[34;01msklearn\u001b[39;00m\u001b[34;01m.\u001b[39;00m\u001b[34;01mpreprocessing\u001b[39;00m\u001b[38;5;250m \u001b[39m\u001b[38;5;28;01mimport\u001b[39;00m StandardScaler  \u001b[38;5;66;03m# ✅ Add this\u001b[39;00m\n\u001b[32m----> \u001b[39m\u001b[32m6\u001b[39m \u001b[38;5;28;01mimport\u001b[39;00m\u001b[38;5;250m \u001b[39m\u001b[34;01mtensorflow\u001b[39;00m\u001b[38;5;250m \u001b[39m\u001b[38;5;28;01mas\u001b[39;00m\u001b[38;5;250m \u001b[39m\u001b[34;01mtf\u001b[39;00m\n\u001b[32m      7\u001b[39m \u001b[38;5;28;01mfrom\u001b[39;00m\u001b[38;5;250m \u001b[39m\u001b[34;01mtensorflow\u001b[39;00m\u001b[34;01m.\u001b[39;00m\u001b[34;01mkeras\u001b[39;00m\u001b[34;01m.\u001b[39;00m\u001b[34;01mmodels\u001b[39;00m\u001b[38;5;250m \u001b[39m\u001b[38;5;28;01mimport\u001b[39;00m Sequential\n\u001b[32m      8\u001b[39m \u001b[38;5;28;01mfrom\u001b[39;00m\u001b[38;5;250m \u001b[39m\u001b[34;01mtensorflow\u001b[39;00m\u001b[34;01m.\u001b[39;00m\u001b[34;01mkeras\u001b[39;00m\u001b[34;01m.\u001b[39;00m\u001b[34;01mlayers\u001b[39;00m\u001b[38;5;250m \u001b[39m\u001b[38;5;28;01mimport\u001b[39;00m Dense\n",
      "\u001b[31mModuleNotFoundError\u001b[39m: No module named 'tensorflow'"
     ]
    }
   ],
   "source": [
    "import pandas as pd\n",
    "import numpy as np\n",
    "import matplotlib.pyplot as plt\n",
    "from sklearn.model_selection import train_test_split\n",
    "from sklearn.preprocessing import StandardScaler  # ✅ Add this\n",
    "import tensorflow as tf\n",
    "from tensorflow.keras.models import Sequential\n",
    "from tensorflow.keras.layers import Dense\n"
   ]
  },
  {
   "cell_type": "code",
   "execution_count": 21,
   "id": "5401807b",
   "metadata": {},
   "outputs": [
    {
     "ename": "NameError",
     "evalue": "name 'StandardScaler' is not defined",
     "output_type": "error",
     "traceback": [
      "\u001b[31m---------------------------------------------------------------------------\u001b[39m",
      "\u001b[31mNameError\u001b[39m                                 Traceback (most recent call last)",
      "\u001b[36mCell\u001b[39m\u001b[36m \u001b[39m\u001b[32mIn[21]\u001b[39m\u001b[32m, line 9\u001b[39m\n\u001b[32m      6\u001b[39m X_train, X_test, y_train, y_test = train_test_split(X, y, test_size=\u001b[32m0.2\u001b[39m, random_state=\u001b[32m42\u001b[39m)\n\u001b[32m      8\u001b[39m \u001b[38;5;66;03m# STEP 5: Normalize features\u001b[39;00m\n\u001b[32m----> \u001b[39m\u001b[32m9\u001b[39m scaler = \u001b[43mStandardScaler\u001b[49m()\n\u001b[32m     10\u001b[39m X_train = scaler.fit_transform(X_train)\n\u001b[32m     11\u001b[39m X_test = scaler.transform(X_test)\n",
      "\u001b[31mNameError\u001b[39m: name 'StandardScaler' is not defined"
     ]
    }
   ],
   "source": [
    "# STEP 3: Feature & target separation\n",
    "y = df['price']\n",
    "X = df.drop('price', axis=1)\n",
    "\n",
    "# STEP 4: Train-test split\n",
    "X_train, X_test, y_train, y_test = train_test_split(X, y, test_size=0.2, random_state=42)\n",
    "\n",
    "# STEP 5: Normalize features\n",
    "scaler = StandardScaler()\n",
    "X_train = scaler.fit_transform(X_train)\n",
    "X_test = scaler.transform(X_test)\n",
    "\n",
    "# STEP 6: Build the model\n",
    "model = Sequential([\n",
    "    Dense(128, activation='relu', input_shape=(X_train.shape[1],)),\n",
    "    Dense(64, activation='relu'),\n",
    "    Dense(32, activation='relu'),\n",
    "    Dense(1)  # output layer (price)\n",
    "])\n",
    "\n",
    "model.compile(optimizer='adam', loss='mean_squared_error', metrics=['mae'])\n",
    "\n",
    "# STEP 7: Train the model\n",
    "history = model.fit(X_train, y_train, epochs=50, batch_size=32, validation_split=0.2)\n",
    "\n",
    "# STEP 8: Evaluate\n",
    "loss, mae = model.evaluate(X_test, y_test)\n",
    "print(f\"Test MAE: {mae:.2f}\")\n",
    "\n",
    "# STEP 9: Predict\n",
    "predictions = model.predict(X_test[:5])\n",
    "print(\"Predicted prices:\", predictions.flatten())\n",
    "print(\"Actual prices:\", y_test[:5].values)\n",
    "\n",
    "# STEP 10: Plot loss\n",
    "plt.plot(history.history['loss'], label='Train Loss')\n",
    "plt.plot(history.history['val_loss'], label='Validation Loss')\n",
    "plt.title('Loss over Epochs')\n",
    "plt.xlabel('Epoch')\n",
    "plt.ylabel('Loss')\n",
    "plt.legend()\n",
    "plt.tight_layout()\n",
    "plt.show()"
   ]
  },
  {
   "cell_type": "code",
   "execution_count": 20,
   "id": "2656a46d",
   "metadata": {},
   "outputs": [
    {
     "name": "stderr",
     "output_type": "stream",
     "text": [
      "/tmp/ipykernel_13806/3827441947.py:3: FutureWarning: \n",
      "\n",
      "Passing `palette` without assigning `hue` is deprecated and will be removed in v0.14.0. Assign the `y` variable to `hue` and set `legend=False` for the same effect.\n",
      "\n",
      "  sns.barplot(data=importance_df.head(15), x='Importance', y='Feature', palette='viridis')\n"
     ]
    },
    {
     "data": {
      "image/png": "[encoded data removed]",
      "text/plain": [
       "<Figure size 1000x600 with 1 Axes>"
      ]
     },
     "metadata": {},
     "output_type": "display_data"
    }
   ],
   "source": [
    "# Plot top features\n",
    "plt.figure(figsize=(10, 6))\n",
    "sns.barplot(data=importance_df.head(15), x='Importance', y='Feature', palette='viridis')\n",
    "plt.title(\"Top 15 Important Features\")\n",
    "plt.tight_layout()\n",
    "plt.show()"
   ]
  }
 ],
 "metadata": {
  "kernelspec": {
   "display_name": "Python (horizons25)",
   "language": "python",
   "name": "horizons25"
  },
  "language_info": {
   "codemirror_mode": {
    "name": "ipython",
    "version": 3
   },
   "file_extension": ".py",
   "mimetype": "text/x-python",
   "name": "python",
   "nbconvert_exporter": "python",
   "pygments_lexer": "ipython3",
   "version": "3.12.9"
  }
 },
 "nbformat": 4,
 "nbformat_minor": 5
}
